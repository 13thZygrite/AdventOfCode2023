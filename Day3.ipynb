{
 "cells": [
  {
   "cell_type": "code",
   "execution_count": 1,
   "metadata": {},
   "outputs": [],
   "source": [
    "test = \"\"\"467..114..\n",
    "...*......\n",
    "..35..633.\n",
    "......#...\n",
    "617*......\n",
    ".....+.58.\n",
    "..592.....\n",
    "......755.\n",
    "...$.*....\n",
    ".664.598..\"\"\""
   ]
  },
  {
   "cell_type": "code",
   "execution_count": 18,
   "metadata": {},
   "outputs": [],
   "source": [
    "input = \"\"\"Redacted\n",
    "\"\"\""
   ]
  },
  {
   "cell_type": "code",
   "execution_count": 8,
   "metadata": {},
   "outputs": [],
   "source": [
    "def to_check(x, y):\n",
    "    for i in [-1, 0, 1]:\n",
    "        for j in [-1, 0, 1]:\n",
    "            if i == 0 and j == 0:\n",
    "                continue\n",
    "            else:\n",
    "                #print(\"here\")\n",
    "                yield (x + i, y + j)"
   ]
  },
  {
   "cell_type": "code",
   "execution_count": 19,
   "metadata": {},
   "outputs": [
    {
     "name": "stdout",
     "output_type": "stream",
     "text": [
      "522726\n"
     ]
    }
   ],
   "source": [
    "schem = {}\n",
    "done = set()\n",
    "\n",
    "for line_index, line in enumerate(input.split()):\n",
    "    for idx, char in enumerate(line):\n",
    "        if char != \".\":\n",
    "            schem[(line_index, idx)] = char\n",
    "\n",
    "sum = 0\n",
    "\n",
    "for key, val in schem.items():\n",
    "    if val in \"0123456789\":\n",
    "        for place in to_check(key[0], key[1]):\n",
    "            if key not in done and place in schem and schem[place] not in \"0123456789\":\n",
    "                left = 0\n",
    "                right = 0\n",
    "                while (key[0], key[1] - (left+1)) in schem and schem[(key[0], key[1] - (left+1))] in \"0123456789\":\n",
    "                    left += 1\n",
    "                while (key[0], key[1] + (right+1)) in schem and schem[(key[0], key[1] + (right+1))] in \"0123456789\":\n",
    "                    right += 1\n",
    "                \n",
    "                num = 0\n",
    "                place = left + right +1\n",
    "                leftmost = key[1] - left \n",
    "                while (place > 0):\n",
    "                    num += int(schem[(key[0], leftmost)]) * pow(10, place - 1)\n",
    "                    place -= 1\n",
    "                    done.add((key[0], leftmost))\n",
    "                    leftmost += 1\n",
    "                sum += num\n",
    "                break\n",
    "        else:\n",
    "            continue\n",
    "\n",
    "print(sum)\n"
   ]
  },
  {
   "cell_type": "code",
   "execution_count": 37,
   "metadata": {},
   "outputs": [
    {
     "name": "stdout",
     "output_type": "stream",
     "text": [
      "81721933\n"
     ]
    }
   ],
   "source": [
    "\n",
    "\n",
    "schem2 = {}\n",
    "for line_index, line in enumerate(input.split()):\n",
    "    for idx, char in enumerate(line):\n",
    "        if char in \"0123456789*\":\n",
    "            schem2[(line_index, idx)] = char\n",
    "\n",
    "sum2 = 0\n",
    "\n",
    "for key, val in schem2.items():\n",
    "    if val ==\"*\":\n",
    "        done2 = set()\n",
    "        key1 = 0\n",
    "        key2 = 0\n",
    "        for place in to_check(key[0], key[1]):\n",
    "            if place not in done2 and place in schem2 and schem2[place] in \"0123456789\":\n",
    "                left = 0\n",
    "                right = 0\n",
    "                while (place[0], place[1] - (left+1)) in schem2 and schem2[(place[0], place[1] - (left+1))] in \"0123456789\":\n",
    "                    left += 1\n",
    "                while (place[0], place[1] + (right+1)) in schem2 and schem2[(place[0], place[1] + (right+1))] in \"0123456789\":\n",
    "                    right += 1\n",
    "                \n",
    "                num = 0\n",
    "                digit_place = left + right +1\n",
    "                leftmost = place[1] - left \n",
    "                while (digit_place > 0):\n",
    "                    num += int(schem2[(place[0], leftmost)]) * pow(10, digit_place - 1)\n",
    "                    digit_place -= 1\n",
    "                    done2.add((place[0], leftmost))\n",
    "                    leftmost += 1\n",
    "                if key1 == 0:\n",
    "                    key1 = num\n",
    "                else:\n",
    "                    key2 = num\n",
    "        sum2 += key1 * key2\n",
    "\n",
    "\n",
    "print(sum2)"
   ]
  }
 ],
 "metadata": {
  "kernelspec": {
   "display_name": "Python 3",
   "language": "python",
   "name": "python3"
  },
  "language_info": {
   "codemirror_mode": {
    "name": "ipython",
    "version": 3
   },
   "file_extension": ".py",
   "mimetype": "text/x-python",
   "name": "python",
   "nbconvert_exporter": "python",
   "pygments_lexer": "ipython3",
   "version": "3.9.10"
  }
 },
 "nbformat": 4,
 "nbformat_minor": 2
}
