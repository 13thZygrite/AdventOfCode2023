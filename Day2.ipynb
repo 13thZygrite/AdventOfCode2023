{
 "cells": [
  {
   "cell_type": "code",
   "execution_count": 1,
   "metadata": {},
   "outputs": [],
   "source": [
    "input = \"\"\"REDACTED\"\"\""
   ]
  },
  {
   "cell_type": "code",
   "execution_count": 2,
   "metadata": {},
   "outputs": [],
   "source": [
    "test = \"\"\"Game 1: 3 blue, 4 red; 1 red, 2 green, 6 blue; 2 green\n",
    "Game 2: 1 blue, 2 green; 3 green, 4 blue, 1 red; 1 green, 1 blue\n",
    "Game 3: 8 green, 6 blue, 20 red; 5 blue, 4 red, 13 green; 5 green, 1 red\n",
    "Game 4: 1 green, 3 red, 6 blue; 3 green, 6 red; 3 green, 15 blue, 14 red\n",
    "Game 5: 6 red, 1 blue, 3 green; 2 blue, 1 red, 2 green\"\"\""
   ]
  },
  {
   "cell_type": "code",
   "execution_count": 24,
   "metadata": {},
   "outputs": [
    {
     "name": "stdout",
     "output_type": "stream",
     "text": [
      "2551\n"
     ]
    }
   ],
   "source": [
    "sum = 0\n",
    "\n",
    "allowed = {\"blue\" : 14, \"red\": 12, \"green\" : 13}\n",
    "\n",
    "for line in input.splitlines():\n",
    "    fine = True\n",
    "    id = int(line.split(sep=\":\")[0][4:])\n",
    "    draws = line.split(sep=\":\")[1].split(\";\")\n",
    "    for draw in draws:\n",
    "        pairs = draw.split(\", \")\n",
    "        for pair in pairs:\n",
    "            num = int(pair.lstrip().split()[0])\n",
    "            if num > allowed[pair.split()[-1]]:\n",
    "                fine = False\n",
    "                break\n",
    "    if fine:\n",
    "        sum += id\n",
    "\n",
    "print(sum)"
   ]
  },
  {
   "cell_type": "code",
   "execution_count": 42,
   "metadata": {},
   "outputs": [
    {
     "name": "stdout",
     "output_type": "stream",
     "text": [
      "62811\n"
     ]
    }
   ],
   "source": [
    "\n",
    "maxItems = {}\n",
    "\n",
    "for line in input.splitlines():\n",
    "    fine = True\n",
    "    id = int(line.split(sep=\":\")[0][4:])\n",
    "    draws = line.split(sep=\":\")[1].split(\";\")\n",
    "    for draw in draws:\n",
    "        pairs = draw.split(\", \")\n",
    "        for pair in pairs:\n",
    "            num = int(pair.lstrip().split()[0])\n",
    "            if id in maxItems:\n",
    "                if pair.split()[-1] in maxItems[id]:\n",
    "                    maxItems[id][str(pair.split()[-1])] = num if num > maxItems[id][pair.split()[-1]] else maxItems[id][str(pair.split()[-1])]\n",
    "                else:\n",
    "                    maxItems[id][str(pair.split()[-1])] = num\n",
    "            else:\n",
    "                maxItems[id] = {str([pair.split()[-1]][0]) : num}\n",
    "\n",
    "sumPower = 0\n",
    "for cube in maxItems.values():\n",
    "    prod = 1\n",
    "    for val in cube.values():\n",
    "        prod *= val\n",
    "    sumPower+= prod\n",
    "\n",
    "print(sumPower)\n"
   ]
  }
 ],
 "metadata": {
  "kernelspec": {
   "display_name": "Python 3",
   "language": "python",
   "name": "python3"
  },
  "language_info": {
   "codemirror_mode": {
    "name": "ipython",
    "version": 3
   },
   "file_extension": ".py",
   "mimetype": "text/x-python",
   "name": "python",
   "nbconvert_exporter": "python",
   "pygments_lexer": "ipython3",
   "version": "3.9.10"
  }
 },
 "nbformat": 4,
 "nbformat_minor": 2
}
