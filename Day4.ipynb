{
 "cells": [
  {
   "cell_type": "code",
   "execution_count": 1,
   "metadata": {},
   "outputs": [],
   "source": [
    "test = \"\"\"Card 1: 41 48 83 86 17 | 83 86  6 31 17  9 48 53\n",
    "Card 2: 13 32 20 16 61 | 61 30 68 82 17 32 24 19\n",
    "Card 3:  1 21 53 59 44 | 69 82 63 72 16 21 14  1\n",
    "Card 4: 41 92 73 84 69 | 59 84 76 51 58  5 54 83\n",
    "Card 5: 87 83 26 28 32 | 88 30 70 12 93 22 82 36\n",
    "Card 6: 31 18 13 56 72 | 74 77 10 23 35 67 36 11\"\"\""
   ]
  },
  {
   "cell_type": "code",
   "execution_count": 7,
   "metadata": {},
   "outputs": [],
   "source": [
    "input = \"\"\"Redacted\n",
    "\"\"\""
   ]
  },
  {
   "cell_type": "code",
   "execution_count": 8,
   "metadata": {},
   "outputs": [
    {
     "name": "stdout",
     "output_type": "stream",
     "text": [
      "33950\n"
     ]
    }
   ],
   "source": [
    "sum = 0\n",
    "\n",
    "for line in input.splitlines():\n",
    "    card = 0\n",
    "    numbers = line.split(\":\")[-1]\n",
    "    winning = numbers.split(\"|\")[0].split()\n",
    "    mine = numbers.split(\"|\")[1].split()\n",
    "    for val in mine:\n",
    "        if val in winning:\n",
    "            card = 1 if card == 0 else card * 2\n",
    "    sum += card\n",
    "\n",
    "print(sum)\n",
    "\n",
    "    \n"
   ]
  },
  {
   "cell_type": "code",
   "execution_count": 22,
   "metadata": {},
   "outputs": [
    {
     "name": "stdout",
     "output_type": "stream",
     "text": [
      "14814534\n"
     ]
    }
   ],
   "source": [
    "import queue\n",
    "\n",
    "cards = {}\n",
    "\n",
    "to_do = queue.SimpleQueue()\n",
    "\n",
    "count = 0\n",
    "\n",
    "for line in input.splitlines():\n",
    "    card = int(line.split(\":\")[0].split()[-1])\n",
    "    numbers = line.split(\":\")[-1]\n",
    "    winning = numbers.split(\"|\")[0].split()\n",
    "    mine = numbers.split(\"|\")[1].split()\n",
    "    cards[card] = (winning, mine)\n",
    "    to_do.put(card)\n",
    "\n",
    "while (not to_do.empty()):\n",
    "    num = 0\n",
    "    processing = to_do.get(False)\n",
    "    card = cards[processing]\n",
    "    for val in card[1]:\n",
    "        if val in card[0]:\n",
    "            num += 1\n",
    "    i = processing + 1\n",
    "    while (num > 0):\n",
    "        to_do.put(i)\n",
    "        i += 1\n",
    "        num -= 1\n",
    "    count += 1\n",
    "\n",
    "print(count)"
   ]
  },
  {
   "cell_type": "code",
   "execution_count": null,
   "metadata": {},
   "outputs": [],
   "source": []
  }
 ],
 "metadata": {
  "kernelspec": {
   "display_name": "Python 3",
   "language": "python",
   "name": "python3"
  },
  "language_info": {
   "codemirror_mode": {
    "name": "ipython",
    "version": 3
   },
   "file_extension": ".py",
   "mimetype": "text/x-python",
   "name": "python",
   "nbconvert_exporter": "python",
   "pygments_lexer": "ipython3",
   "version": "3.9.10"
  }
 },
 "nbformat": 4,
 "nbformat_minor": 2
}
