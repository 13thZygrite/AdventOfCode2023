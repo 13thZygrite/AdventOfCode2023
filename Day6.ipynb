{
 "cells": [
  {
   "cell_type": "code",
   "execution_count": 13,
   "metadata": {},
   "outputs": [],
   "source": [
    "times = \"7  15   30\".split()\n",
    "distances = \"9  40  200\".split()"
   ]
  },
  {
   "cell_type": "code",
   "execution_count": 16,
   "metadata": {},
   "outputs": [],
   "source": [
    "times = \"REDACTED\"\n",
    "distances = \"REDACTED\""
   ]
  },
  {
   "cell_type": "code",
   "execution_count": 12,
   "metadata": {},
   "outputs": [
    {
     "name": "stdout",
     "output_type": "stream",
     "text": [
      "['61', '67', '75', '71']\n",
      "['430', '1036', '1307', '1150']\n",
      "316800\n"
     ]
    }
   ],
   "source": [
    "\n",
    "product = 1\n",
    "print(times)\n",
    "print(distances)\n",
    "for idx, time in enumerate(times):\n",
    "    ways = 0\n",
    "    distance = distances[idx]\n",
    "    for i in range(int(time)):\n",
    "        if i * (int(time) - i) > int(distance):\n",
    "            ways += 1\n",
    "    product *= ways\n",
    "\n",
    "print(product)\n",
    "    "
   ]
  },
  {
   "cell_type": "code",
   "execution_count": 17,
   "metadata": {},
   "outputs": [
    {
     "name": "stdout",
     "output_type": "stream",
     "text": [
      "45647654\n"
     ]
    }
   ],
   "source": [
    "product = 1\n",
    "time = int(\"\".join(times))\n",
    "distance = int(\"\".join(distances))\n",
    "ways = 0\n",
    "for i in range(time):\n",
    "    if i * (time - i) > distance:\n",
    "        ways += 1\n",
    "product *= ways\n",
    "\n",
    "print(product)"
   ]
  }
 ],
 "metadata": {
  "kernelspec": {
   "display_name": "Python 3",
   "language": "python",
   "name": "python3"
  },
  "language_info": {
   "codemirror_mode": {
    "name": "ipython",
    "version": 3
   },
   "file_extension": ".py",
   "mimetype": "text/x-python",
   "name": "python",
   "nbconvert_exporter": "python",
   "pygments_lexer": "ipython3",
   "version": "3.9.10"
  }
 },
 "nbformat": 4,
 "nbformat_minor": 2
}
